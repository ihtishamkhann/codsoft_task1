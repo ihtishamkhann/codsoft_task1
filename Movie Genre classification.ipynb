{
 "cells": [
  {
   "cell_type": "code",
   "execution_count": 15,
   "id": "14d733d5",
   "metadata": {},
   "outputs": [],
   "source": [
    "import pandas as pd\n",
    "import matplotlib.pyplot as plt\n",
    "import re\n",
    "import nltk\n",
    "from nltk.corpus import stopwords"
   ]
  },
  {
   "cell_type": "code",
   "execution_count": 46,
   "id": "8c77351b",
   "metadata": {},
   "outputs": [],
   "source": [
    "train_path = \"C:/Users/92314/Desktop/Untitled Folder/Codsoft/Genre Classification Dataset/train_data.txt\""
   ]
  },
  {
   "cell_type": "code",
   "execution_count": 47,
   "id": "bd47f534",
   "metadata": {},
   "outputs": [],
   "source": [
    "train_data = pd.read_csv(train_path, sep=':::', names=['Title', 'Genre', 'Description'], engine='python')"
   ]
  },
  {
   "cell_type": "code",
   "execution_count": 18,
   "id": "70d13bc1",
   "metadata": {},
   "outputs": [],
   "source": [
    "test_path = \"C:/Users/92314/Desktop/Untitled Folder/Codsoft/Genre Classification Dataset/test_data_solution.txt\"\n",
    "test_data = pd.read_csv(test_path, sep=':::', names=['Title', 'Genre', 'Description'], engine='python')"
   ]
  },
  {
   "cell_type": "code",
   "execution_count": 19,
   "id": "299ccbcd",
   "metadata": {},
   "outputs": [
    {
     "data": {
      "text/html": [
       "<div>\n",
       "<style scoped>\n",
       "    .dataframe tbody tr th:only-of-type {\n",
       "        vertical-align: middle;\n",
       "    }\n",
       "\n",
       "    .dataframe tbody tr th {\n",
       "        vertical-align: top;\n",
       "    }\n",
       "\n",
       "    .dataframe thead th {\n",
       "        text-align: right;\n",
       "    }\n",
       "</style>\n",
       "<table border=\"1\" class=\"dataframe\">\n",
       "  <thead>\n",
       "    <tr style=\"text-align: right;\">\n",
       "      <th></th>\n",
       "      <th>Title</th>\n",
       "      <th>Genre</th>\n",
       "      <th>Description</th>\n",
       "    </tr>\n",
       "  </thead>\n",
       "  <tbody>\n",
       "    <tr>\n",
       "      <th>1</th>\n",
       "      <td>Oscar et la dame rose (2009)</td>\n",
       "      <td>drama</td>\n",
       "      <td>Listening in to a conversation between his do...</td>\n",
       "    </tr>\n",
       "    <tr>\n",
       "      <th>2</th>\n",
       "      <td>Cupid (1997)</td>\n",
       "      <td>thriller</td>\n",
       "      <td>A brother and sister with a past incestuous r...</td>\n",
       "    </tr>\n",
       "    <tr>\n",
       "      <th>3</th>\n",
       "      <td>Young, Wild and Wonderful (1980)</td>\n",
       "      <td>adult</td>\n",
       "      <td>As the bus empties the students for their fie...</td>\n",
       "    </tr>\n",
       "    <tr>\n",
       "      <th>4</th>\n",
       "      <td>The Secret Sin (1915)</td>\n",
       "      <td>drama</td>\n",
       "      <td>To help their unemployed father make ends mee...</td>\n",
       "    </tr>\n",
       "    <tr>\n",
       "      <th>5</th>\n",
       "      <td>The Unrecovered (2007)</td>\n",
       "      <td>drama</td>\n",
       "      <td>The film's title refers not only to the un-re...</td>\n",
       "    </tr>\n",
       "  </tbody>\n",
       "</table>\n",
       "</div>"
      ],
      "text/plain": [
       "                                Title       Genre  \\\n",
       "1       Oscar et la dame rose (2009)       drama    \n",
       "2                       Cupid (1997)    thriller    \n",
       "3   Young, Wild and Wonderful (1980)       adult    \n",
       "4              The Secret Sin (1915)       drama    \n",
       "5             The Unrecovered (2007)       drama    \n",
       "\n",
       "                                         Description  \n",
       "1   Listening in to a conversation between his do...  \n",
       "2   A brother and sister with a past incestuous r...  \n",
       "3   As the bus empties the students for their fie...  \n",
       "4   To help their unemployed father make ends mee...  \n",
       "5   The film's title refers not only to the un-re...  "
      ]
     },
     "execution_count": 19,
     "metadata": {},
     "output_type": "execute_result"
    }
   ],
   "source": [
    "train_data.head()"
   ]
  },
  {
   "cell_type": "code",
   "execution_count": 20,
   "id": "2c24eb73",
   "metadata": {},
   "outputs": [
    {
     "data": {
      "text/plain": [
       "Title          0\n",
       "Genre          0\n",
       "Description    0\n",
       "dtype: int64"
      ]
     },
     "execution_count": 20,
     "metadata": {},
     "output_type": "execute_result"
    }
   ],
   "source": [
    "train_data.isna().sum()"
   ]
  },
  {
   "cell_type": "code",
   "execution_count": 50,
   "id": "c72ed9fd",
   "metadata": {},
   "outputs": [
    {
     "data": {
      "text/plain": [
       "<function matplotlib.pyplot.ylabel(ylabel, fontdict=None, labelpad=None, *, loc=None, **kwargs)>"
      ]
     },
     "execution_count": 50,
     "metadata": {},
     "output_type": "execute_result"
    },
    {
     "data": {
      "image/png": "[encoded data removed]",
      "text/plain": [
       "<Figure size 1296x432 with 1 Axes>"
      ]
     },
     "metadata": {
      "needs_background": "light"
     },
     "output_type": "display_data"
    }
   ],
   "source": [
    "import pandas as pd\n",
    "import seaborn as sns\n",
    "import matplotlib.pyplot as plt\n",
    "\n",
    "# Plot the distribution of genres\n",
    "plt.figure(figsize=(18, 6))\n",
    "sns.countplot(x='Genre', data=train_data, palette='viridis')\n",
    "plt.title('Distribution of Genres in Train Data')\n",
    "plt.xlabel('Genre')\n",
    "plt.ylabel\n"
   ]
  },
  {
   "cell_type": "code",
   "execution_count": 21,
   "id": "a2d8ee98",
   "metadata": {},
   "outputs": [],
   "source": [
    "train_data['text'] = train_data['Title'] + ' ' + train_data['Description']\n",
    "test_data['text'] = train_data['Title'] + ' ' + train_data['Description']\n"
   ]
  },
  {
   "cell_type": "code",
   "execution_count": 22,
   "id": "207804fb",
   "metadata": {},
   "outputs": [
    {
     "data": {
      "text/html": [
       "<div>\n",
       "<style scoped>\n",
       "    .dataframe tbody tr th:only-of-type {\n",
       "        vertical-align: middle;\n",
       "    }\n",
       "\n",
       "    .dataframe tbody tr th {\n",
       "        vertical-align: top;\n",
       "    }\n",
       "\n",
       "    .dataframe thead th {\n",
       "        text-align: right;\n",
       "    }\n",
       "</style>\n",
       "<table border=\"1\" class=\"dataframe\">\n",
       "  <thead>\n",
       "    <tr style=\"text-align: right;\">\n",
       "      <th></th>\n",
       "      <th>Title</th>\n",
       "      <th>Genre</th>\n",
       "      <th>Description</th>\n",
       "      <th>text</th>\n",
       "    </tr>\n",
       "  </thead>\n",
       "  <tbody>\n",
       "    <tr>\n",
       "      <th>1</th>\n",
       "      <td>Oscar et la dame rose (2009)</td>\n",
       "      <td>drama</td>\n",
       "      <td>Listening in to a conversation between his do...</td>\n",
       "      <td>Oscar et la dame rose (2009)   Listening in t...</td>\n",
       "    </tr>\n",
       "    <tr>\n",
       "      <th>2</th>\n",
       "      <td>Cupid (1997)</td>\n",
       "      <td>thriller</td>\n",
       "      <td>A brother and sister with a past incestuous r...</td>\n",
       "      <td>Cupid (1997)   A brother and sister with a pa...</td>\n",
       "    </tr>\n",
       "    <tr>\n",
       "      <th>3</th>\n",
       "      <td>Young, Wild and Wonderful (1980)</td>\n",
       "      <td>adult</td>\n",
       "      <td>As the bus empties the students for their fie...</td>\n",
       "      <td>Young, Wild and Wonderful (1980)   As the bus...</td>\n",
       "    </tr>\n",
       "    <tr>\n",
       "      <th>4</th>\n",
       "      <td>The Secret Sin (1915)</td>\n",
       "      <td>drama</td>\n",
       "      <td>To help their unemployed father make ends mee...</td>\n",
       "      <td>The Secret Sin (1915)   To help their unemplo...</td>\n",
       "    </tr>\n",
       "    <tr>\n",
       "      <th>5</th>\n",
       "      <td>The Unrecovered (2007)</td>\n",
       "      <td>drama</td>\n",
       "      <td>The film's title refers not only to the un-re...</td>\n",
       "      <td>The Unrecovered (2007)   The film's title ref...</td>\n",
       "    </tr>\n",
       "    <tr>\n",
       "      <th>...</th>\n",
       "      <td>...</td>\n",
       "      <td>...</td>\n",
       "      <td>...</td>\n",
       "      <td>...</td>\n",
       "    </tr>\n",
       "    <tr>\n",
       "      <th>54210</th>\n",
       "      <td>\"Bonino\" (1953)</td>\n",
       "      <td>comedy</td>\n",
       "      <td>This short-lived NBC live sitcom centered on ...</td>\n",
       "      <td>\"Bonino\" (1953)   This short-lived NBC live s...</td>\n",
       "    </tr>\n",
       "    <tr>\n",
       "      <th>54211</th>\n",
       "      <td>Dead Girls Don't Cry (????)</td>\n",
       "      <td>horror</td>\n",
       "      <td>The NEXT Generation of EXPLOITATION. The sist...</td>\n",
       "      <td>Dead Girls Don't Cry (????)   The NEXT Genera...</td>\n",
       "    </tr>\n",
       "    <tr>\n",
       "      <th>54212</th>\n",
       "      <td>Ronald Goedemondt: Ze bestaan echt (2008)</td>\n",
       "      <td>documentary</td>\n",
       "      <td>Ze bestaan echt, is a stand-up comedy about g...</td>\n",
       "      <td>Ronald Goedemondt: Ze bestaan echt (2008)   Z...</td>\n",
       "    </tr>\n",
       "    <tr>\n",
       "      <th>54213</th>\n",
       "      <td>Make Your Own Bed (1944)</td>\n",
       "      <td>comedy</td>\n",
       "      <td>Walter and Vivian live in the country and hav...</td>\n",
       "      <td>Make Your Own Bed (1944)   Walter and Vivian ...</td>\n",
       "    </tr>\n",
       "    <tr>\n",
       "      <th>54214</th>\n",
       "      <td>Nature's Fury: Storm of the Century (2006)</td>\n",
       "      <td>history</td>\n",
       "      <td>On Labor Day Weekend, 1935, the most intense ...</td>\n",
       "      <td>Nature's Fury: Storm of the Century (2006)   ...</td>\n",
       "    </tr>\n",
       "  </tbody>\n",
       "</table>\n",
       "<p>54214 rows × 4 columns</p>\n",
       "</div>"
      ],
      "text/plain": [
       "                                              Title          Genre  \\\n",
       "1                     Oscar et la dame rose (2009)          drama    \n",
       "2                                     Cupid (1997)       thriller    \n",
       "3                 Young, Wild and Wonderful (1980)          adult    \n",
       "4                            The Secret Sin (1915)          drama    \n",
       "5                           The Unrecovered (2007)          drama    \n",
       "...                                             ...            ...   \n",
       "54210                              \"Bonino\" (1953)         comedy    \n",
       "54211                  Dead Girls Don't Cry (????)         horror    \n",
       "54212    Ronald Goedemondt: Ze bestaan echt (2008)    documentary    \n",
       "54213                     Make Your Own Bed (1944)         comedy    \n",
       "54214   Nature's Fury: Storm of the Century (2006)        history    \n",
       "\n",
       "                                             Description  \\\n",
       "1       Listening in to a conversation between his do...   \n",
       "2       A brother and sister with a past incestuous r...   \n",
       "3       As the bus empties the students for their fie...   \n",
       "4       To help their unemployed father make ends mee...   \n",
       "5       The film's title refers not only to the un-re...   \n",
       "...                                                  ...   \n",
       "54210   This short-lived NBC live sitcom centered on ...   \n",
       "54211   The NEXT Generation of EXPLOITATION. The sist...   \n",
       "54212   Ze bestaan echt, is a stand-up comedy about g...   \n",
       "54213   Walter and Vivian live in the country and hav...   \n",
       "54214   On Labor Day Weekend, 1935, the most intense ...   \n",
       "\n",
       "                                                    text  \n",
       "1       Oscar et la dame rose (2009)   Listening in t...  \n",
       "2       Cupid (1997)   A brother and sister with a pa...  \n",
       "3       Young, Wild and Wonderful (1980)   As the bus...  \n",
       "4       The Secret Sin (1915)   To help their unemplo...  \n",
       "5       The Unrecovered (2007)   The film's title ref...  \n",
       "...                                                  ...  \n",
       "54210   \"Bonino\" (1953)   This short-lived NBC live s...  \n",
       "54211   Dead Girls Don't Cry (????)   The NEXT Genera...  \n",
       "54212   Ronald Goedemondt: Ze bestaan echt (2008)   Z...  \n",
       "54213   Make Your Own Bed (1944)   Walter and Vivian ...  \n",
       "54214   Nature's Fury: Storm of the Century (2006)   ...  \n",
       "\n",
       "[54214 rows x 4 columns]"
      ]
     },
     "execution_count": 22,
     "metadata": {},
     "output_type": "execute_result"
    }
   ],
   "source": [
    "train_data"
   ]
  },
  {
   "cell_type": "code",
   "execution_count": 23,
   "id": "3ae551d7",
   "metadata": {},
   "outputs": [],
   "source": [
    "# # Take 25% of the rows\n",
    "# train_data = train_data.samplea(frac=0.25, random_state=42)"
   ]
  },
  {
   "cell_type": "code",
   "execution_count": 24,
   "id": "d26b602e",
   "metadata": {},
   "outputs": [
    {
     "data": {
      "text/plain": [
       "(54214, 4)"
      ]
     },
     "execution_count": 24,
     "metadata": {},
     "output_type": "execute_result"
    }
   ],
   "source": [
    "train_data.shape"
   ]
  },
  {
   "cell_type": "code",
   "execution_count": 25,
   "id": "7c3fc2f9",
   "metadata": {},
   "outputs": [],
   "source": [
    "from nltk.corpus import stopwords\n",
    "import re\n",
    "\n",
    "STOPWORDS = set(stopwords.words('english'))\n",
    "\n",
    "def clean_text(text):\n",
    "    # Lowercase text\n",
    "    text = text.lower()\n",
    "    \n",
    "    # Remove stopwords from text\n",
    "    text = ' '.join(word for word in text.split() if word not in STOPWORDS)\n",
    "    \n",
    "    # Remove all the special characters\n",
    "    text = re.sub(r'\\W', ' ', text)\n",
    "    \n",
    "    # Remove numbers\n",
    "    text = re.sub(r'\\d', ' ', text)\n",
    "    \n",
    "    # Remove all single characters\n",
    "    text = re.sub(r'\\s+[a-zA-Z]\\s+', ' ', text)\n",
    "    \n",
    "    # Remove single characters from the start\n",
    "    text = re.sub(r'\\^[a-zA-Z]\\s+', ' ', text)\n",
    "    \n",
    "    # Substituting multiple spaces with single space\n",
    "    text = re.sub(r'\\s\\s+', ' ', text) #remove extra spaces\n",
    "    \n",
    "    return text"
   ]
  },
  {
   "cell_type": "code",
   "execution_count": 26,
   "id": "a13aab5b",
   "metadata": {},
   "outputs": [],
   "source": [
    "train_data['cleaned_text'] = train_data['text'].apply(clean_text)"
   ]
  },
  {
   "cell_type": "code",
   "execution_count": 27,
   "id": "77f1b1b5",
   "metadata": {},
   "outputs": [],
   "source": [
    "# test_data['cleaned_text'] = test_data['text'].apply(clean_text)"
   ]
  },
  {
   "cell_type": "code",
   "execution_count": 28,
   "id": "3aa2dca3",
   "metadata": {},
   "outputs": [
    {
     "data": {
      "text/plain": [
       "1        oscar et la dame rose listening conversation d...\n",
       "2        cupid brother sister past incestuous relations...\n",
       "3        young wild wonderful bus empties students fiel...\n",
       "4        secret sin help unemployed father make ends me...\n",
       "5        unrecovered film title refers un recovered bod...\n",
       "                               ...                        \n",
       "54210     bonino short lived nbc live sitcom centered b...\n",
       "54211    dead girls cry next generation exploitation si...\n",
       "54212    ronald goedemondt ze bestaan echt ze bestaan e...\n",
       "54213    make bed walter vivian live country difficult ...\n",
       "54214    nature fury storm century labor day weekend in...\n",
       "Name: cleaned_text, Length: 54214, dtype: object"
      ]
     },
     "execution_count": 28,
     "metadata": {},
     "output_type": "execute_result"
    }
   ],
   "source": [
    "train_data['cleaned_text']"
   ]
  },
  {
   "cell_type": "code",
   "execution_count": 29,
   "id": "094a3809",
   "metadata": {},
   "outputs": [],
   "source": [
    "import nltk\n",
    "from nltk.stem.porter import PorterStemmer"
   ]
  },
  {
   "cell_type": "code",
   "execution_count": 30,
   "id": "206ab289",
   "metadata": {},
   "outputs": [],
   "source": [
    "ps = PorterStemmer()\n",
    "\n",
    "def stem(text):\n",
    "    List = []\n",
    "    \n",
    "    for i in text.split(): # convert worlds into list and then stem each word\n",
    "        List.append(ps.stem(i))\n",
    "        \n",
    "#     return List\n",
    "    return ' '.join(List)"
   ]
  },
  {
   "cell_type": "code",
   "execution_count": 31,
   "id": "0927dd7a",
   "metadata": {},
   "outputs": [],
   "source": [
    "train_data['cleaned_text'] = train_data['cleaned_text'].apply(stem)"
   ]
  },
  {
   "cell_type": "code",
   "execution_count": 32,
   "id": "7e5fb13a",
   "metadata": {},
   "outputs": [
    {
     "data": {
      "text/plain": [
       "1        oscar et la dame rose listen convers doctor pa...\n",
       "2        cupid brother sister past incestu relationship...\n",
       "3        young wild wonder bu empti student field trip ...\n",
       "4        secret sin help unemploy father make end meet ...\n",
       "5        unrecov film titl refer un recov bodi ground z...\n",
       "                               ...                        \n",
       "54210    bonino short live nbc live sitcom center bonin...\n",
       "54211    dead girl cri next gener exploit sister kapa b...\n",
       "54212    ronald goedemondt ze bestaan echt ze bestaan e...\n",
       "54213    make bed walter vivian live countri difficult ...\n",
       "54214    natur furi storm centuri labor day weekend int...\n",
       "Name: cleaned_text, Length: 54214, dtype: object"
      ]
     },
     "execution_count": 32,
     "metadata": {},
     "output_type": "execute_result"
    }
   ],
   "source": [
    "train_data['cleaned_text']"
   ]
  },
  {
   "cell_type": "code",
   "execution_count": null,
   "id": "014e734c",
   "metadata": {},
   "outputs": [],
   "source": []
  },
  {
   "cell_type": "code",
   "execution_count": 33,
   "id": "e7972cb7",
   "metadata": {},
   "outputs": [
    {
     "data": {
      "text/html": [
       "<div>\n",
       "<style scoped>\n",
       "    .dataframe tbody tr th:only-of-type {\n",
       "        vertical-align: middle;\n",
       "    }\n",
       "\n",
       "    .dataframe tbody tr th {\n",
       "        vertical-align: top;\n",
       "    }\n",
       "\n",
       "    .dataframe thead th {\n",
       "        text-align: right;\n",
       "    }\n",
       "</style>\n",
       "<table border=\"1\" class=\"dataframe\">\n",
       "  <thead>\n",
       "    <tr style=\"text-align: right;\">\n",
       "      <th></th>\n",
       "      <th>Title</th>\n",
       "      <th>Genre</th>\n",
       "      <th>Description</th>\n",
       "      <th>text</th>\n",
       "      <th>cleaned_text</th>\n",
       "    </tr>\n",
       "  </thead>\n",
       "  <tbody>\n",
       "    <tr>\n",
       "      <th>1</th>\n",
       "      <td>Oscar et la dame rose (2009)</td>\n",
       "      <td>drama</td>\n",
       "      <td>Listening in to a conversation between his do...</td>\n",
       "      <td>Oscar et la dame rose (2009)   Listening in t...</td>\n",
       "      <td>oscar et la dame rose listen convers doctor pa...</td>\n",
       "    </tr>\n",
       "    <tr>\n",
       "      <th>2</th>\n",
       "      <td>Cupid (1997)</td>\n",
       "      <td>thriller</td>\n",
       "      <td>A brother and sister with a past incestuous r...</td>\n",
       "      <td>Cupid (1997)   A brother and sister with a pa...</td>\n",
       "      <td>cupid brother sister past incestu relationship...</td>\n",
       "    </tr>\n",
       "    <tr>\n",
       "      <th>3</th>\n",
       "      <td>Young, Wild and Wonderful (1980)</td>\n",
       "      <td>adult</td>\n",
       "      <td>As the bus empties the students for their fie...</td>\n",
       "      <td>Young, Wild and Wonderful (1980)   As the bus...</td>\n",
       "      <td>young wild wonder bu empti student field trip ...</td>\n",
       "    </tr>\n",
       "    <tr>\n",
       "      <th>4</th>\n",
       "      <td>The Secret Sin (1915)</td>\n",
       "      <td>drama</td>\n",
       "      <td>To help their unemployed father make ends mee...</td>\n",
       "      <td>The Secret Sin (1915)   To help their unemplo...</td>\n",
       "      <td>secret sin help unemploy father make end meet ...</td>\n",
       "    </tr>\n",
       "    <tr>\n",
       "      <th>5</th>\n",
       "      <td>The Unrecovered (2007)</td>\n",
       "      <td>drama</td>\n",
       "      <td>The film's title refers not only to the un-re...</td>\n",
       "      <td>The Unrecovered (2007)   The film's title ref...</td>\n",
       "      <td>unrecov film titl refer un recov bodi ground z...</td>\n",
       "    </tr>\n",
       "  </tbody>\n",
       "</table>\n",
       "</div>"
      ],
      "text/plain": [
       "                                Title       Genre  \\\n",
       "1       Oscar et la dame rose (2009)       drama    \n",
       "2                       Cupid (1997)    thriller    \n",
       "3   Young, Wild and Wonderful (1980)       adult    \n",
       "4              The Secret Sin (1915)       drama    \n",
       "5             The Unrecovered (2007)       drama    \n",
       "\n",
       "                                         Description  \\\n",
       "1   Listening in to a conversation between his do...   \n",
       "2   A brother and sister with a past incestuous r...   \n",
       "3   As the bus empties the students for their fie...   \n",
       "4   To help their unemployed father make ends mee...   \n",
       "5   The film's title refers not only to the un-re...   \n",
       "\n",
       "                                                text  \\\n",
       "1   Oscar et la dame rose (2009)   Listening in t...   \n",
       "2   Cupid (1997)   A brother and sister with a pa...   \n",
       "3   Young, Wild and Wonderful (1980)   As the bus...   \n",
       "4   The Secret Sin (1915)   To help their unemplo...   \n",
       "5   The Unrecovered (2007)   The film's title ref...   \n",
       "\n",
       "                                        cleaned_text  \n",
       "1  oscar et la dame rose listen convers doctor pa...  \n",
       "2  cupid brother sister past incestu relationship...  \n",
       "3  young wild wonder bu empti student field trip ...  \n",
       "4  secret sin help unemploy father make end meet ...  \n",
       "5  unrecov film titl refer un recov bodi ground z...  "
      ]
     },
     "execution_count": 33,
     "metadata": {},
     "output_type": "execute_result"
    }
   ],
   "source": [
    "train_data.head()"
   ]
  },
  {
   "cell_type": "code",
   "execution_count": 34,
   "id": "b441f6ef",
   "metadata": {},
   "outputs": [],
   "source": [
    "X = train_data['Genre']\n",
    "Y = train_data['cleaned_text']"
   ]
  },
  {
   "cell_type": "markdown",
   "id": "1fb2ad69",
   "metadata": {},
   "source": [
    "# TFidf Vectorization"
   ]
  },
  {
   "cell_type": "code",
   "execution_count": 35,
   "id": "56969dda",
   "metadata": {},
   "outputs": [],
   "source": [
    "from sklearn.feature_extraction.text import TfidfVectorizer\n",
    "from sklearn.ensemble import RandomForestClassifier\n",
    "from sklearn.metrics import accuracy_score, classification_report\n",
    "from sklearn.model_selection import train_test_split\n"
   ]
  },
  {
   "cell_type": "code",
   "execution_count": 44,
   "id": "72c4305f",
   "metadata": {},
   "outputs": [
    {
     "name": "stdout",
     "output_type": "stream",
     "text": [
      "Accuracy: 0.49\n",
      "\n",
      "Classification Report:\n",
      "               precision    recall  f1-score   support\n",
      "\n",
      "      action        0.00      0.00      0.00       263\n",
      "       adult        1.00      0.07      0.13       112\n",
      "   adventure        0.57      0.09      0.15       139\n",
      "   animation        0.00      0.00      0.00       104\n",
      "   biography        0.00      0.00      0.00        61\n",
      "      comedy        0.53      0.28      0.37      1443\n",
      "       crime        1.00      0.01      0.02       107\n",
      " documentary        0.54      0.89      0.67      2659\n",
      "       drama        0.42      0.84      0.56      2697\n",
      "      family        0.67      0.01      0.03       150\n",
      "     fantasy        0.00      0.00      0.00        74\n",
      "   game-show        1.00      0.25      0.40        40\n",
      "     history        0.00      0.00      0.00        45\n",
      "      horror        0.79      0.14      0.23       431\n",
      "       music        0.71      0.10      0.18       144\n",
      "     musical        0.00      0.00      0.00        50\n",
      "     mystery        0.00      0.00      0.00        56\n",
      "        news        0.00      0.00      0.00        34\n",
      "  reality-tv        0.00      0.00      0.00       192\n",
      "     romance        0.00      0.00      0.00       151\n",
      "      sci-fi        0.50      0.01      0.01       143\n",
      "       short        0.72      0.06      0.11      1045\n",
      "       sport        0.70      0.08      0.14        93\n",
      "   talk-show        1.00      0.02      0.05        81\n",
      "    thriller        1.00      0.00      0.01       309\n",
      "         war        1.00      0.05      0.10        20\n",
      "     western        0.99      0.38      0.55       200\n",
      "\n",
      "     accuracy                           0.49     10843\n",
      "    macro avg       0.49      0.12      0.14     10843\n",
      " weighted avg       0.53      0.49      0.39     10843\n",
      "\n"
     ]
    },
    {
     "name": "stderr",
     "output_type": "stream",
     "text": [
      "F:\\ProgramData\\Anaconda3\\lib\\site-packages\\sklearn\\metrics\\_classification.py:1469: UndefinedMetricWarning: Precision and F-score are ill-defined and being set to 0.0 in labels with no predicted samples. Use `zero_division` parameter to control this behavior.\n",
      "  _warn_prf(average, modifier, msg_start, len(result))\n",
      "F:\\ProgramData\\Anaconda3\\lib\\site-packages\\sklearn\\metrics\\_classification.py:1469: UndefinedMetricWarning: Precision and F-score are ill-defined and being set to 0.0 in labels with no predicted samples. Use `zero_division` parameter to control this behavior.\n",
      "  _warn_prf(average, modifier, msg_start, len(result))\n",
      "F:\\ProgramData\\Anaconda3\\lib\\site-packages\\sklearn\\metrics\\_classification.py:1469: UndefinedMetricWarning: Precision and F-score are ill-defined and being set to 0.0 in labels with no predicted samples. Use `zero_division` parameter to control this behavior.\n",
      "  _warn_prf(average, modifier, msg_start, len(result))\n"
     ]
    }
   ],
   "source": [
    "# Split the data into training and testing sets\n",
    "X_train, X_test, y_train, y_test = train_test_split(train_data['cleaned_text'], \n",
    "                                                    train_data['Genre'], \n",
    "                                                    test_size=0.2, \n",
    "                                                    random_state=42)\n",
    "\n",
    "# TF-IDF Vectorization\n",
    "tfidf_vectorizer = TfidfVectorizer()\n",
    "X_train_tfidf = tfidf_vectorizer.fit_transform(X_train)\n",
    "X_test_tfidf = tfidf_vectorizer.transform(X_test)\n",
    "\n",
    "# RandomForest Classifier\n",
    "rf_classifier = RandomForestClassifier(random_state=42)\n",
    "rf_classifier.fit(X_train_tfidf, y_train)\n",
    "\n",
    "# Predictions on the test set\n",
    "y_pred = rf_classifier.predict(X_test_tfidf)\n",
    "\n",
    "# Evaluate the model\n",
    "accuracy = accuracy_score(y_test, y_pred)\n",
    "print(f\"Accuracy: {accuracy:.2f}\")\n",
    "\n",
    "# Display classification report\n",
    "print(\"\\nClassification Report:\")\n",
    "print(classification_report(y_test, y_pred))"
   ]
  },
  {
   "cell_type": "code",
   "execution_count": null,
   "id": "c26ef9e1",
   "metadata": {},
   "outputs": [],
   "source": []
  }
 ],
 "metadata": {
  "kernelspec": {
   "display_name": "Python 3 (ipykernel)",
   "language": "python",
   "name": "python3"
  },
  "language_info": {
   "codemirror_mode": {
    "name": "ipython",
    "version": 3
   },
   "file_extension": ".py",
   "mimetype": "text/x-python",
   "name": "python",
   "nbconvert_exporter": "python",
   "pygments_lexer": "ipython3",
   "version": "3.9.7"
  }
 },
 "nbformat": 4,
 "nbformat_minor": 5
}
